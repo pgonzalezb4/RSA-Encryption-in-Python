{
 "cells": [
  {
   "cell_type": "markdown",
   "id": "51bb33d7",
   "metadata": {},
   "source": [
    "# Encryption mini project"
   ]
  },
  {
   "cell_type": "markdown",
   "id": "40a88bbc",
   "metadata": {},
   "source": [
    "##### Made by Pablo Gonzalez"
   ]
  },
  {
   "cell_type": "code",
   "execution_count": 51,
   "id": "a14f7844",
   "metadata": {},
   "outputs": [],
   "source": [
    "import math\n",
    "import string\n",
    "\n",
    "class Keypair:\n",
    "    def __init__(self, p, q):\n",
    "        e = None\n",
    "        n = p*q\n",
    "        phi_n = (p-1)*(q-1)\n",
    "        for i in range(2, phi_n):\n",
    "            if math.gcd(i, phi_n) == 1:\n",
    "                e = i\n",
    "                break\n",
    "        self.public_key = (n, e)\n",
    "        self.private_key = int((2*phi_n + 1)/e)\n",
    "\n",
    "def encrypt(word, n, e):\n",
    "    letter_list = []\n",
    "    for i in list(word):\n",
    "        letter_list.append(string.ascii_lowercase.index(i)+1)\n",
    "    encryption = []\n",
    "    for i in letter_list:\n",
    "        encryption.append(int(math.pow(i, e)%n))\n",
    "    return encryption\n",
    "\n",
    "def decrypt(encryption, d, n):\n",
    "    decryption = []\n",
    "    for i in encryption:\n",
    "        letter = int(pow(i, d)%n)\n",
    "        decryption.append(string.ascii_lowercase[letter-1])\n",
    "    return ''.join(decryption)"
   ]
  },
  {
   "cell_type": "code",
   "execution_count": 66,
   "id": "d8398d2b",
   "metadata": {},
   "outputs": [
    {
     "name": "stdout",
     "output_type": "stream",
     "text": [
      "Original word: pablogonzalezbaron\n",
      "Encrypted word: [152, 1, 32, 207, 19, 11, 19, 131, 195, 1, 207, 31, 195, 32, 1, 18, 19, 131]\n",
      "Decrypted word: pablogonzalezbaron\n"
     ]
    }
   ],
   "source": [
    "# We create a keypair with a public key and a private key, given a pair of prime numbers.\n",
    "keypair = Keypair(13, 17)\n",
    "\n",
    "word = \"pablogonzalezbaron\"\n",
    "print(\"Original word:\", word)\n",
    "\n",
    "# We encrypt the word \n",
    "encrypted_word = cipher(word, keypair.public_key[0], keypair.public_key[1])\n",
    "\n",
    "print(\"Encrypted word:\", encrypted_word)\n",
    "\n",
    "# We decrypt the code 'encrypted_word' to show again the word\n",
    "decrypted_word = decrypt(encrypted_word, keypair.private_key, keypair.public_key[0])\n",
    "\n",
    "print(\"Decrypted word:\", decrypted_word)"
   ]
  },
  {
   "cell_type": "raw",
   "id": "82ea8100",
   "metadata": {},
   "source": []
  }
 ],
 "metadata": {
  "kernelspec": {
   "display_name": "Python 3",
   "language": "python",
   "name": "python3"
  },
  "language_info": {
   "codemirror_mode": {
    "name": "ipython",
    "version": 3
   },
   "file_extension": ".py",
   "mimetype": "text/x-python",
   "name": "python",
   "nbconvert_exporter": "python",
   "pygments_lexer": "ipython3",
   "version": "3.8.8"
  }
 },
 "nbformat": 4,
 "nbformat_minor": 5
}
